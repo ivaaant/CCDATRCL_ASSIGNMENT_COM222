{
  "cells": [
    {
      "cell_type": "markdown",
      "metadata": {
        "id": "DChTQ-Dl6P6x"
      },
      "source": [
        "# Exercise 6"
      ]
    },
    {
      "cell_type": "markdown",
      "metadata": {
        "id": "LpUn1Hl56P61"
      },
      "source": [
        "#### Pre-defined code"
      ]
    },
    {
      "cell_type": "code",
      "execution_count": 3,
      "metadata": {
        "id": "j7uwlpwF6P62"
      },
      "outputs": [],
      "source": [
        "class Node:\n",
        "    def __init__(self, item):\n",
        "        self.left = None\n",
        "        self.right = None\n",
        "        self.val = item"
      ]
    },
    {
      "cell_type": "code",
      "execution_count": 11,
      "metadata": {
        "id": "sMBuszVl6P64"
      },
      "outputs": [],
      "source": [
        "def inorder(root):\n",
        "\n",
        "    if root:\n",
        "        # Traverse left\n",
        "        inorder(root.left)\n",
        "        # Traverse root\n",
        "        print(str(root.val) + \"-> \", end=' ')\n",
        "        # Traverse right\n",
        "        inorder(root.right)\n",
        "\n",
        "def postorder(root):\n",
        "\n",
        "    if root:\n",
        "        # Traverse left\n",
        "        postorder(root.left)\n",
        "        # Traverse right\n",
        "        postorder(root.right)\n",
        "        # Traverse root\n",
        "        print(str(root.val) + \"-> \", end=' ')\n",
        "\n",
        "def preorder(root):\n",
        "\n",
        "    if root:\n",
        "        # Traverse root\n",
        "        print(str(root.val) + \"-> \", end=' ')\n",
        "        # Traverse left\n",
        "        preorder(root.left)\n",
        "        # Traverse right\n",
        "        preorder(root.right)"
      ]
    },
    {
      "cell_type": "markdown",
      "metadata": {
        "id": "LwmT_M7q6P65"
      },
      "source": [
        "#### 1. Construct Create your own company org chart and put yourself as CEO.\n",
        "\n",
        "Using a Tree data structure,\n",
        "\n",
        "- Assign yourself as CEO\n",
        "\n",
        "- Assign any of your classmate as HR Director\n",
        "- Assign any of your classmate as Sales Director\n",
        "\n",
        "- Assign any of your classmate as trainee. His/her boss is the HR Director\n",
        "- Assign any of your classmate as a staff and trainee. Their boss is the Sales Director\n"
      ]
    },
    {
      "cell_type": "markdown",
      "metadata": {
        "id": "AAfBMYG-6P65"
      },
      "source": [
        "<img src=\"https://thumbs.dreamstime.com/z/cartoon-organization-chart-some-company-93778925.jpg\"/>"
      ]
    },
    {
      "cell_type": "code",
      "execution_count": 9,
      "metadata": {
        "id": "4tz1pxca6P66"
      },
      "outputs": [],
      "source": [
        "# put your answer here\n",
        "root = Node(\"CEO: Ivan\")\n",
        "root.left = Node(\"HR: Jessa\")\n",
        "root.right = Node(\"Sales: Jayvee\")\n",
        "root.left.left = Node(\"Trainee HR: Khyle\")\n",
        "root.right.left = Node(\"Staff Sales: Renz\")\n",
        "root.right.right = Node(\"Trainee Sales: Andrei\")"
      ]
    },
    {
      "cell_type": "markdown",
      "metadata": {
        "id": "psjDzKdk6P66"
      },
      "source": [
        "#### 2. Traverse the tree in in-order traversal"
      ]
    },
    {
      "cell_type": "code",
      "execution_count": 12,
      "metadata": {
        "id": "iex2ZDgQ6P67",
        "outputId": "a172aee2-e3a4-41ce-a5cc-d8b7f8b8079c",
        "colab": {
          "base_uri": "https://localhost:8080/"
        }
      },
      "outputs": [
        {
          "output_type": "stream",
          "name": "stdout",
          "text": [
            "Inorder traversal: \n",
            "Trainee HR: Khyle->  HR: Jessa->  CEO: Ivan->  Staff Sales: Renz->  Sales: Jayvee->  Trainee Sales: Andrei->  "
          ]
        }
      ],
      "source": [
        "# put your answer here\n",
        "print(\"Inorder traversal: \")\n",
        "inorder(root)"
      ]
    },
    {
      "cell_type": "markdown",
      "metadata": {
        "id": "geM3UJM86P67"
      },
      "source": [
        "#### 3. Traverse the tree in pre-order traversal"
      ]
    },
    {
      "cell_type": "code",
      "execution_count": 13,
      "metadata": {
        "id": "ltK0cKHF6P67",
        "outputId": "3e7f1c4a-bf11-48b3-86b9-737e71b6dfb5",
        "colab": {
          "base_uri": "https://localhost:8080/"
        }
      },
      "outputs": [
        {
          "output_type": "stream",
          "name": "stdout",
          "text": [
            "Pre order traversal: \n",
            "CEO: Ivan->  HR: Jessa->  Trainee HR: Khyle->  Sales: Jayvee->  Staff Sales: Renz->  Trainee Sales: Andrei->  "
          ]
        }
      ],
      "source": [
        "# put your answer here\n",
        "print(\"Pre order traversal: \")\n",
        "preorder(root)"
      ]
    },
    {
      "cell_type": "markdown",
      "metadata": {
        "id": "-GMetWj_6P68"
      },
      "source": [
        "#### 4. Traverse the tree in post-order traversal"
      ]
    },
    {
      "cell_type": "code",
      "execution_count": 14,
      "metadata": {
        "id": "tgJlTgKj6P68",
        "outputId": "5f96df6a-b8d1-4b68-c2ab-b58b9d26a572",
        "colab": {
          "base_uri": "https://localhost:8080/"
        }
      },
      "outputs": [
        {
          "output_type": "stream",
          "name": "stdout",
          "text": [
            "Post order traversal: \n",
            "Trainee HR: Khyle->  HR: Jessa->  Staff Sales: Renz->  Trainee Sales: Andrei->  Sales: Jayvee->  CEO: Ivan->  "
          ]
        }
      ],
      "source": [
        "# put your answer here\n",
        "print(\"Post order traversal: \")\n",
        "postorder(root)"
      ]
    }
  ],
  "metadata": {
    "kernelspec": {
      "display_name": "Python 3",
      "language": "python",
      "name": "python3"
    },
    "language_info": {
      "codemirror_mode": {
        "name": "ipython",
        "version": 3
      },
      "file_extension": ".py",
      "mimetype": "text/x-python",
      "name": "python",
      "nbconvert_exporter": "python",
      "pygments_lexer": "ipython3",
      "version": "3.11.4"
    },
    "orig_nbformat": 4,
    "colab": {
      "provenance": []
    }
  },
  "nbformat": 4,
  "nbformat_minor": 0
}