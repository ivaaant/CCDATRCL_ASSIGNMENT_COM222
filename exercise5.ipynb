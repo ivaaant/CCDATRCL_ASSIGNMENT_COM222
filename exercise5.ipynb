{
  "cells": [
    {
      "cell_type": "markdown",
      "metadata": {
        "id": "view-in-github",
        "colab_type": "text"
      },
      "source": [
        "<a href=\"https://colab.research.google.com/github/ivaaant/CCDATRCL_ASSIGNMENT_COM222/blob/main/exercise5.ipynb\" target=\"_parent\"><img src=\"https://colab.research.google.com/assets/colab-badge.svg\" alt=\"Open In Colab\"/></a>"
      ]
    },
    {
      "cell_type": "markdown",
      "metadata": {
        "id": "H5HfSlD6ldg8"
      },
      "source": [
        "# Exercise 5"
      ]
    },
    {
      "cell_type": "markdown",
      "metadata": {
        "id": "ZKFZIRUAldhB"
      },
      "source": [
        "#### 1. Create a dictionary of your 10 favorite songs."
      ]
    },
    {
      "cell_type": "markdown",
      "metadata": {
        "id": "lVQEtrf3ldhC"
      },
      "source": [
        "Example:\n",
        "\n",
        "|KEY|VALUE|\n",
        "|---|---|\n",
        "|001|My Love|\n",
        "|002|Like a rose|"
      ]
    },
    {
      "cell_type": "code",
      "execution_count": 17,
      "metadata": {
        "id": "Ygh-6daYldhD",
        "outputId": "d6b748f4-8cdf-4381-ff2f-f58150d5af21",
        "colab": {
          "base_uri": "https://localhost:8080/"
        }
      },
      "outputs": [
        {
          "output_type": "stream",
          "name": "stdout",
          "text": [
            "{'001': 'Silly hoes', '002': 'AYOS NAKO', '003': 'Anghell', '004': 'Synesthesia', '005': 'Para sa streets', '006': 'Drugs in the club', '007': 'Isa pa', '008': 'Marlboro Black', '009': 'Sandali', '010': 'Baby Cakes'}\n"
          ]
        }
      ],
      "source": [
        "# put your answer here\n",
        "mydictionary = {\n",
        "  \"001\": \"Silly hoes\",\n",
        "  \"002\": \"AYOS NAKO\",\n",
        "  \"003\": \"Anghell\",\n",
        "  \"004\": \"Synesthesia\",\n",
        "  \"005\": \"Para sa streets\",\n",
        "  \"006\": \"Drugs in the club\",\n",
        "  \"007\": \"Isa pa\",\n",
        "  \"008\": \"Marlboro Black\",\n",
        "  \"009\": \"Sandali\",\n",
        "  \"010\": \"Baby Cakes\",\n",
        "}\n",
        "print(mydictionary)"
      ]
    },
    {
      "cell_type": "markdown",
      "metadata": {
        "id": "DP_7WMhtldhE"
      },
      "source": [
        "#### 2. Loop through the dictionary by its **key** and **value**"
      ]
    },
    {
      "cell_type": "code",
      "execution_count": 20,
      "metadata": {
        "id": "ob9BQa40ldhE",
        "outputId": "bca02c49-170b-4084-b393-065d683a0417",
        "colab": {
          "base_uri": "https://localhost:8080/"
        }
      },
      "outputs": [
        {
          "output_type": "stream",
          "name": "stdout",
          "text": [
            "Key: 001, Value: Sily Hoes\n",
            "Key: 002, Value: AYOS NAKO\n",
            "Key: 003, Value: Anghell\n",
            "Key: 004, Value: Synesthesia\n",
            "Key: 005, Value: Para sa streets\n",
            "Key: 006, Value: Drugs in the club\n",
            "Key: 007, Value: Isa pa\n",
            "Key: 008, Value: Marlboro Black\n",
            "Key: 009, Value: Sandali\n",
            "Key: 010, Value: Baby Cakes\n"
          ]
        }
      ],
      "source": [
        "# put your answer here\n",
        "mydictionary = {\n",
        "  \"001\": \"Sily Hoes\",\n",
        "  \"002\": \"AYOS NAKO\",\n",
        "  \"003\": \"Anghell\",\n",
        "  \"004\": \"Synesthesia\",\n",
        "  \"005\": \"Para sa streets\",\n",
        "  \"006\": \"Drugs in the club\",\n",
        "  \"007\": \"Isa pa\",\n",
        "  \"008\": \"Marlboro Black\",\n",
        "  \"009\": \"Sandali\",\n",
        "  \"010\": \"Baby Cakes\",\n",
        "}\n",
        "for key, value in mydictionary.items():\n",
        "  print(f\"Key: {key}, Value: {value:}\")"
      ]
    },
    {
      "cell_type": "markdown",
      "metadata": {
        "id": "85Hym4rCldhE"
      },
      "source": [
        "#### 3. Add one additional song"
      ]
    },
    {
      "cell_type": "code",
      "execution_count": 15,
      "metadata": {
        "id": "z2SiQbG-ldhF",
        "outputId": "55ce53a4-1ac4-4d9b-eede-c6a5a783b8d0",
        "colab": {
          "base_uri": "https://localhost:8080/"
        }
      },
      "outputs": [
        {
          "output_type": "execute_result",
          "data": {
            "text/plain": [
              "{'001': 'Silly hoes',\n",
              " '002': 'AYOS NAKO',\n",
              " '003': 'Anghell',\n",
              " '004': 'Synesthesia',\n",
              " '005': 'Para sa streets',\n",
              " '006': 'Drugs in the club',\n",
              " '007': 'Isa pa',\n",
              " '008': 'Marlboro Black',\n",
              " '009': 'Sandali',\n",
              " '010': 'Baby Cakes',\n",
              " '011': 'Go Ghetta'}"
            ]
          },
          "metadata": {},
          "execution_count": 15
        }
      ],
      "source": [
        "# put your answer here\n",
        "mydictionary.update({\"011\": \"Go Ghetta\"})\n",
        "mydictionary"
      ]
    },
    {
      "cell_type": "markdown",
      "metadata": {
        "id": "9vYH5unMldhF"
      },
      "source": [
        "#### 4. Remove one song"
      ]
    },
    {
      "cell_type": "code",
      "execution_count": 19,
      "metadata": {
        "id": "dt17Wf9NldhG",
        "outputId": "29a64160-d139-4428-8cd7-049e0d0b8016",
        "colab": {
          "base_uri": "https://localhost:8080/"
        }
      },
      "outputs": [
        {
          "output_type": "execute_result",
          "data": {
            "text/plain": [
              "{'001': 'Sily Hoes',\n",
              " '002': 'AYOS NAKO',\n",
              " '003': 'Anghell',\n",
              " '004': 'Synesthesia',\n",
              " '005': 'Para sa streets',\n",
              " '006': 'Drugs in the club',\n",
              " '008': 'Marlboro Black',\n",
              " '009': 'Sandali',\n",
              " '010': 'Baby Cakes'}"
            ]
          },
          "metadata": {},
          "execution_count": 19
        }
      ],
      "source": [
        "# put your answer here\n",
        "mydictionary.pop(\"007\")\n",
        "mydictionary"
      ]
    },
    {
      "cell_type": "markdown",
      "metadata": {
        "id": "MBiUaVjPldhG"
      },
      "source": [
        "#### 5. Create a nested dictionary of your 10 favorite songs with 5 genres. Display all of the items of the nested dictionary\n",
        "\n",
        "- Each nested dictionary's key should be the genre of the song\n",
        "- Put each song in their respective genre"
      ]
    },
    {
      "cell_type": "markdown",
      "metadata": {
        "id": "T7EfFN6bldhG"
      },
      "source": [
        "Example:\n",
        "\n",
        "\n",
        "|KEY|VALUE|\n",
        "|---|---|\n",
        "|Pop|{001, Baby}|\n",
        "|Rock|{001, Enter Sandman}|"
      ]
    },
    {
      "cell_type": "code",
      "execution_count": 32,
      "metadata": {
        "id": "064EivvIldhG",
        "outputId": "2b26aa4a-4737-4b2b-d3fb-8c700a378941",
        "colab": {
          "base_uri": "https://localhost:8080/"
        }
      },
      "outputs": [
        {
          "output_type": "execute_result",
          "data": {
            "text/plain": [
              "{'RnB': {'001': 'Silly Hoes', '002': 'AYOS NAKO'},\n",
              " 'Rock': {'001': 'ANGHELL', '002': 'Synesthesia'},\n",
              " 'Rap': {'001': 'Marlboro Black', '002': 'City Girl'},\n",
              " 'OPM': {'001': 'Para sa streets', '002': 'Drugs in the club'},\n",
              " 'Jazz': {'001': 'Sandali', '002': 'Baby cakes'}}"
            ]
          },
          "metadata": {},
          "execution_count": 32
        }
      ],
      "source": [
        "# put your answer here\n",
        "mydictionary = {\n",
        "  \"RnB\" : {\n",
        "    \"001\" : \"Silly Hoes\",\n",
        "    \"002\" : \"AYOS NAKO\"\n",
        "  },\n",
        "  \"Rock\" : {\n",
        "    \"001\" : \"ANGHELL\",\n",
        "    \"002\" : \"Synesthesia\"\n",
        "  },\n",
        "  \"Rap\" : {\n",
        "    \"001\" : \"Marlboro Black\",\n",
        "    \"002\" : \"City Girl\"\n",
        "  },\n",
        "  \"OPM\" : {\n",
        "    \"001\" : \"Para sa streets\",\n",
        "    \"002\" : \"Drugs in the club\"\n",
        "  },\n",
        "  \"Jazz\" : {\n",
        "    \"001\" : \"Sandali\",\n",
        "    \"002\" : \"Baby cakes\"\n",
        "  }\n",
        "}\n",
        "\n",
        "mydictionary\n"
      ]
    },
    {
      "cell_type": "markdown",
      "metadata": {
        "id": "75mRGeuLldhH"
      },
      "source": [
        "#### 6. Print the first song of the first genre"
      ]
    },
    {
      "cell_type": "code",
      "execution_count": 33,
      "metadata": {
        "id": "4guV4jaFldhH",
        "outputId": "f743ca09-7202-47c3-a9e0-fc60d7449846",
        "colab": {
          "base_uri": "https://localhost:8080/"
        }
      },
      "outputs": [
        {
          "output_type": "stream",
          "name": "stdout",
          "text": [
            "first song of the first genre:  Silly Hoes\n"
          ]
        }
      ],
      "source": [
        "# put your answer here\n",
        "first_genre = next(iter(mydictionary.keys()))\n",
        "first_song = mydictionary[\"RnB\"][\"001\"]\n",
        "print(\"first song of the first genre: \", first_song)"
      ]
    },
    {
      "cell_type": "markdown",
      "metadata": {
        "id": "ZLnKMK_1ldhH"
      },
      "source": [
        "#### 7. Print the first song of the last genre"
      ]
    },
    {
      "cell_type": "code",
      "execution_count": 31,
      "metadata": {
        "id": "zHJ7MJrJldhH",
        "outputId": "3b710f8e-bb1a-4586-cd5c-c5692099bbe2",
        "colab": {
          "base_uri": "https://localhost:8080/"
        }
      },
      "outputs": [
        {
          "output_type": "stream",
          "name": "stdout",
          "text": [
            "first song of the last genre:  Sandali\n"
          ]
        }
      ],
      "source": [
        "# put your answer here\n",
        "last_genre = next(iter(mydictionary.keys()))\n",
        "first_song2 = mydictionary[\"Jazz\"][\"001\"]\n",
        "print(\"first song of the last genre: \", first_song2)"
      ]
    }
  ],
  "metadata": {
    "kernelspec": {
      "display_name": "Python 3",
      "language": "python",
      "name": "python3"
    },
    "language_info": {
      "codemirror_mode": {
        "name": "ipython",
        "version": 3
      },
      "file_extension": ".py",
      "mimetype": "text/x-python",
      "name": "python",
      "nbconvert_exporter": "python",
      "pygments_lexer": "ipython3",
      "version": "3.11.4"
    },
    "orig_nbformat": 4,
    "colab": {
      "provenance": [],
      "include_colab_link": true
    }
  },
  "nbformat": 4,
  "nbformat_minor": 0
}