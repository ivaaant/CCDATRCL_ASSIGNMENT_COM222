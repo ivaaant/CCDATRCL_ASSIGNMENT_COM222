{
  "cells": [
    {
      "cell_type": "markdown",
      "metadata": {
        "id": "fCO3VeNzvGDc"
      },
      "source": [
        "# Exercise 4"
      ]
    },
    {
      "cell_type": "markdown",
      "metadata": {
        "id": "UCFGr2qPKONg"
      },
      "source": [
        "#### Pre-defined sorting algorithms"
      ]
    },
    {
      "cell_type": "code",
      "execution_count": 1,
      "metadata": {
        "id": "dXWXOLWtKONg"
      },
      "outputs": [],
      "source": [
        "def mergeSort(array):\n",
        "    if len(array) > 1:\n",
        "\n",
        "        #  r is the point where the array is divided into two subarrays\n",
        "        r = len(array)//2\n",
        "        L = array[:r]\n",
        "        M = array[r:]\n",
        "\n",
        "        # Sort the two halves\n",
        "        mergeSort(L)\n",
        "        mergeSort(M)\n",
        "\n",
        "        i = j = k = 0\n",
        "\n",
        "        # Until we reach either end of either L or M, pick larger among\n",
        "        # elements L and M and place them in the correct position at A[p..r]\n",
        "        while i < len(L) and j < len(M):\n",
        "            if L[i] < M[j]:\n",
        "                array[k] = L[i]\n",
        "                i += 1\n",
        "            else:\n",
        "                array[k] = M[j]\n",
        "                j += 1\n",
        "            k += 1\n",
        "\n",
        "        # When we run out of elements in either L or M,\n",
        "        # pick up the remaining elements and put in A[p..r]\n",
        "        while i < len(L):\n",
        "            array[k] = L[i]\n",
        "            i += 1\n",
        "            k += 1\n",
        "\n",
        "        while j < len(M):\n",
        "            array[k] = M[j]\n",
        "            j += 1\n",
        "            k += 1\n",
        "\n",
        "# Print the array\n",
        "def printList(array):\n",
        "    for i in range(len(array)):\n",
        "        print(array[i], end=\" \")\n",
        "    print()"
      ]
    },
    {
      "cell_type": "code",
      "execution_count": 2,
      "metadata": {
        "id": "OB-JMVxvKONi"
      },
      "outputs": [],
      "source": [
        "def countingSort(array):\n",
        "    size = len(array)\n",
        "    output = [0] * size\n",
        "\n",
        "    # Initialize count array\n",
        "    count = [0] * 10\n",
        "\n",
        "    # Store the count of each elements in count array\n",
        "    for i in range(0, size):\n",
        "        count[array[i]] += 1\n",
        "\n",
        "    # Store the cummulative count\n",
        "    for i in range(1, 10):\n",
        "        count[i] += count[i - 1]\n",
        "\n",
        "    # Find the index of each element of the original array in count array\n",
        "    # place the elements in output array\n",
        "    i = size - 1\n",
        "    while i >= 0:\n",
        "        output[count[array[i]] - 1] = array[i]\n",
        "        count[array[i]] -= 1\n",
        "        i -= 1\n",
        "\n",
        "    # Copy the sorted elements into original array\n",
        "    for i in range(0, size):\n",
        "        array[i] = output[i]"
      ]
    },
    {
      "cell_type": "code",
      "execution_count": 3,
      "metadata": {
        "id": "VXaukk4_KONj"
      },
      "outputs": [],
      "source": [
        "def insertionSort(array):\n",
        "\n",
        "    for step in range(1, len(array)):\n",
        "        key = array[step]\n",
        "        j = step - 1\n",
        "\n",
        "        # Compare key with each element on the left of it until an element smaller than it is found\n",
        "        # For descending order, change key<array[j] to key>array[j].\n",
        "        while j >= 0 and key < array[j]:\n",
        "            array[j + 1] = array[j]\n",
        "            j = j - 1\n",
        "\n",
        "        # Place key at after the element just smaller than it.\n",
        "        array[j + 1] = key"
      ]
    },
    {
      "cell_type": "code",
      "execution_count": 4,
      "metadata": {
        "id": "b4yWHH1nKONj"
      },
      "outputs": [],
      "source": [
        "# Bubble sort in Python\n",
        "def bubbleSort(array):\n",
        "\n",
        "  # loop to access each array element\n",
        "  for i in range(len(array)):\n",
        "\n",
        "    # loop to compare array elements\n",
        "    for j in range(0, len(array) - i - 1):\n",
        "\n",
        "      # compare two adjacent elements\n",
        "      # change > to < to sort in descending order\n",
        "      if array[j] > array[j + 1]:\n",
        "\n",
        "        # swapping elements if elements\n",
        "        # are not in the intended order\n",
        "        temp = array[j]\n",
        "        array[j] = array[j+1]\n",
        "        array[j+1] = temp"
      ]
    },
    {
      "cell_type": "markdown",
      "metadata": {
        "id": "6j9PZVsyvGDe"
      },
      "source": [
        "#### 1. Sort your **student number** in **ascending order**\n",
        "\n",
        "Example:\n",
        "\n",
        "**Input: 2022123456**\n",
        "\n",
        "**Output: 0122223456**"
      ]
    },
    {
      "cell_type": "code",
      "execution_count": 8,
      "metadata": {
        "id": "UuNMRCm3vGDe",
        "outputId": "a30b7d58-db24-43ea-ad6e-b46cd267b403",
        "colab": {
          "base_uri": "https://localhost:8080/"
        }
      },
      "outputs": [
        {
          "output_type": "stream",
          "name": "stdout",
          "text": [
            "12224469\n"
          ]
        }
      ],
      "source": [
        "# put your answer here\n",
        "def bubbleSort(array):\n",
        "    for i in range(len(array)):\n",
        "        for j in range(0, len(array) - i - 1):\n",
        "            if array[j] > array[j + 1]:\n",
        "                array[j], array[j + 1] = array[j + 1], array[j]\n",
        "\n",
        "student_number = 2022104964\n",
        "\n",
        "digits = [int(digit) for digit in str(student_number)]\n",
        "\n",
        "bubbleSort(digits)\n",
        "\n",
        "sorted_student_number = int(''.join(map(str, digits)))\n",
        "\n",
        "print(sorted_student_number)\n"
      ]
    },
    {
      "cell_type": "markdown",
      "metadata": {
        "id": "felukBjnvGDf"
      },
      "source": [
        "#### 2. Sort the **dates** in **ascending order**.\n",
        "\n",
        "dates = [\"12-25-2023\", birthday, \"01-01-2023\"]\n",
        "\n",
        "Enter your birthday in the birthday variable."
      ]
    },
    {
      "cell_type": "code",
      "execution_count": 16,
      "metadata": {
        "id": "f8xQ3N0jvGDg",
        "outputId": "eb3b2340-52cb-4163-b7c4-4ccf198bf3a5",
        "colab": {
          "base_uri": "https://localhost:8080/"
        }
      },
      "outputs": [
        {
          "output_type": "stream",
          "name": "stdout",
          "text": [
            "['01-08-2004', '01-01-2023', '12-25-2023']\n"
          ]
        }
      ],
      "source": [
        "# put your answer here\n",
        "def bubbleSort(array):\n",
        "    for i in range(len(array)):\n",
        "        for j in range(0, len(array) - i - 1):\n",
        "\n",
        "            day1, month1, year1 = map(int, array[j].split('-'))\n",
        "            day2, month2, year2 = map(int, array[j + 1].split('-'))\n",
        "\n",
        "            if year1 > year2 or (year1 == year2 and month1 > month2) or (year1 == year2 and month1 == month2 and day1 > day2):\n",
        "                array[j], array[j + 1] = array[j + 1], array[j]\n",
        "\n",
        "birthday = \"01-08-2004\"\n",
        "dates = [\"12-25-2023\", birthday, \"01-01-2023\"]\n",
        "\n",
        "bubbleSort(dates)\n",
        "\n",
        "print(dates)"
      ]
    },
    {
      "cell_type": "markdown",
      "metadata": {
        "id": "IFDPeGZxvGDg"
      },
      "source": [
        "#### 3. Count the **total number of swaps** to sort the list below using **Bubble Sort**\n",
        "\n",
        "|3|2|5|1|4|\n",
        "|---|----|---|---|---|"
      ]
    },
    {
      "cell_type": "code",
      "execution_count": 19,
      "metadata": {
        "id": "b1ppwLcevGDg",
        "outputId": "56229148-4aac-41d5-fcd7-32bd43d9db03",
        "colab": {
          "base_uri": "https://localhost:8080/"
        }
      },
      "outputs": [
        {
          "output_type": "stream",
          "name": "stdout",
          "text": [
            "total swaps: 5\n"
          ]
        }
      ],
      "source": [
        "# put your answer here\n",
        "def bubbleSortWithSwaps(array):\n",
        "    total_swaps = 0\n",
        "\n",
        "    for i in range(len(array)):\n",
        "        for j in range(0, len(array) - i - 1):\n",
        "            if array[j] > array[j + 1]:\n",
        "\n",
        "                array[j], array[j + 1] = array[j + 1], array[j]\n",
        "                total_swaps += 1\n",
        "\n",
        "    return total_swaps\n",
        "\n",
        "given_list = [3, 2, 5, 1, 4]\n",
        "\n",
        "total_swaps = bubbleSortWithSwaps(given_list)\n",
        "\n",
        "print(\"total swaps:\", total_swaps)\n"
      ]
    },
    {
      "cell_type": "markdown",
      "metadata": {
        "id": "iO2UusQWvGDi"
      },
      "source": [
        "#### 4. Count the **total number of steps** to sort the list below using **Insertion Sort**\n",
        "\n",
        "\n",
        "|6|2|5|7|4|1|8|9|3|\n",
        "|---|---|---|---|---|---|---|---|---|"
      ]
    },
    {
      "cell_type": "code",
      "execution_count": 27,
      "metadata": {
        "id": "vq1PYEjmvGDi",
        "outputId": "1711b8bd-ad1f-4c11-ee84-448d8a32c60d",
        "colab": {
          "base_uri": "https://localhost:8080/"
        }
      },
      "outputs": [
        {
          "output_type": "stream",
          "name": "stdout",
          "text": [
            "total steps: 16\n"
          ]
        }
      ],
      "source": [
        "# put your answer here\n",
        "def insertionSort(array):\n",
        "    total_steps = 0\n",
        "\n",
        "    for step in range(1, len(array)):\n",
        "        key = array[step]\n",
        "        j = step - 1\n",
        "\n",
        "        while j >= 0 and key < array[j]:\n",
        "            array[j + 1] = array[j]\n",
        "            j = j - 1\n",
        "            total_steps += 1\n",
        "\n",
        "        array[j + 1] = key\n",
        "\n",
        "    return total_steps\n",
        "\n",
        "list = [6, 2, 5, 7, 4, 1, 8, 9, 3]\n",
        "\n",
        "total_steps = insertionSort(list)\n",
        "\n",
        "steps = total_steps\n",
        "print(\"total steps:\", steps)\n",
        "\n"
      ]
    },
    {
      "cell_type": "markdown",
      "metadata": {
        "id": "jpfNCCdbvGDj"
      },
      "source": [
        "#### 5. Given the list below:\n",
        "\n",
        "\n",
        "|7|5|4|3|2|5|1|8|\n",
        "|---|---|---|---|---|---|---|---|\n",
        "\n",
        "Using **merge sort** and **counting sort**\n",
        "\n",
        "Determine which sorting algorithm is faster by counting the total number of steps for each algorithm\n"
      ]
    },
    {
      "cell_type": "code",
      "execution_count": 38,
      "metadata": {
        "id": "2YVK17cSvGDj",
        "outputId": "af37df4a-cff7-4dfe-8b9f-aa21ddd585cb",
        "colab": {
          "base_uri": "https://localhost:8080/"
        }
      },
      "outputs": [
        {
          "output_type": "stream",
          "name": "stdout",
          "text": [
            "merge steps: 24\n",
            "counting steps: 16\n",
            "counting sort is faster\n"
          ]
        }
      ],
      "source": [
        "# put your answer here\n",
        "def mergeSort(array):\n",
        "    if len(array) <= 1:\n",
        "        return 0\n",
        "\n",
        "    total_steps = 0\n",
        "\n",
        "    mid = len(array) // 2\n",
        "    left_half = array[:mid]\n",
        "    right_half = array[mid:]\n",
        "\n",
        "    total_steps += mergeSort(left_half)\n",
        "    total_steps += mergeSort(right_half)\n",
        "\n",
        "    i = j = k = 0\n",
        "\n",
        "    while i < len(left_half) and j < len(right_half):\n",
        "        if left_half[i] < right_half[j]:\n",
        "            array[k] = left_half[i]\n",
        "            i += 1\n",
        "        else:\n",
        "            array[k] = right_half[j]\n",
        "            j += 1\n",
        "        k += 1\n",
        "        total_steps += 1\n",
        "\n",
        "    while i < len(left_half):\n",
        "        array[k] = left_half[i]\n",
        "        i += 1\n",
        "        k += 1\n",
        "        total_steps += 1\n",
        "\n",
        "    while j < len(right_half):\n",
        "        array[k] = right_half[j]\n",
        "        j += 1\n",
        "        k += 1\n",
        "        total_steps += 1\n",
        "\n",
        "    return total_steps\n",
        "\n",
        "def countingSort(array):\n",
        "    total_steps = 0\n",
        "\n",
        "    size = len(array)\n",
        "    output = [0] * size\n",
        "    count = [0] * (max(array) + 1)\n",
        "\n",
        "    for i in range(size):\n",
        "        count[array[i]] += 1\n",
        "        total_steps += 1\n",
        "\n",
        "    i = j = 0\n",
        "    while i < len(count):\n",
        "        while count[i] > 0:\n",
        "            array[j] = i\n",
        "            j += 1\n",
        "            count[i] -= 1\n",
        "            total_steps += 1\n",
        "        i += 1\n",
        "\n",
        "    return total_steps\n",
        "\n",
        "list = [7, 5, 4, 3, 2, 5, 1, 8]\n",
        "\n",
        "merge_sort = mergeSort(list.copy())\n",
        "print(\"merge steps:\", merge_sort)\n",
        "\n",
        "input_list = [7, 5, 4, 3, 2, 5, 1, 8]\n",
        "\n",
        "count_sort = countingSort(input_list.copy())\n",
        "print(\"counting steps:\", count_sort)\n",
        "\n",
        "if merge_sort < count_sort:\n",
        "    print(\"Merge sort is faster\")\n",
        "else:\n",
        "    print(\"counting sort is faster\")\n",
        "\n"
      ]
    }
  ],
  "metadata": {
    "colab": {
      "provenance": []
    },
    "kernelspec": {
      "display_name": "Python 3",
      "language": "python",
      "name": "python3"
    },
    "language_info": {
      "codemirror_mode": {
        "name": "ipython",
        "version": 3
      },
      "file_extension": ".py",
      "mimetype": "text/x-python",
      "name": "python",
      "nbconvert_exporter": "python",
      "pygments_lexer": "ipython3",
      "version": "3.11.4"
    },
    "orig_nbformat": 4
  },
  "nbformat": 4,
  "nbformat_minor": 0
}