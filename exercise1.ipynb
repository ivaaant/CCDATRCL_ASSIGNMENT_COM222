{
  "cells": [
    {
      "cell_type": "markdown",
      "metadata": {
        "id": "h2vFiYhGzZOg"
      },
      "source": [
        "# Exercise 1"
      ]
    },
    {
      "cell_type": "markdown",
      "source": [
        "## Class Initialization"
      ],
      "metadata": {
        "id": "sRm6kPQozcaU"
      }
    },
    {
      "cell_type": "code",
      "execution_count": 6,
      "metadata": {
        "id": "b1u4Dt9mzZOi"
      },
      "outputs": [],
      "source": [
        "class Node:\n",
        "    def __init__(self, data):\n",
        "        self.data = data\n",
        "        self.next = None\n",
        "        self.prev = None"
      ]
    },
    {
      "cell_type": "code",
      "execution_count": 5,
      "metadata": {
        "id": "tigvHSaHzZOj"
      },
      "outputs": [],
      "source": [
        "class LinkedList:\n",
        "\n",
        "    def __init__(self):\n",
        "        self.head = None\n",
        "\n",
        "    def traverse(self, node):\n",
        "        while node:\n",
        "            print(node.data, end=\" -> \")\n",
        "            node = node.next"
      ]
    },
    {
      "cell_type": "code",
      "execution_count": 7,
      "metadata": {
        "id": "LIkQBioVzZOk"
      },
      "outputs": [],
      "source": [
        "class DoublyLinkedList:\n",
        "\n",
        "    def __init__(self):\n",
        "        self.head = None\n",
        "\n",
        "    def traverse(self, node):\n",
        "        while node:\n",
        "            print(node.data, end=\" -> \")\n",
        "            node = node.next"
      ]
    },
    {
      "cell_type": "code",
      "execution_count": 8,
      "metadata": {
        "id": "zlxNT5EozZOl"
      },
      "outputs": [],
      "source": [
        "class CircularLinkedList:\n",
        "\n",
        "    def __init__(self):\n",
        "        self.head = None\n",
        "\n",
        "    def traverse(self, node):\n",
        "\n",
        "        head = node\n",
        "\n",
        "        while node:\n",
        "            print(node.data, end=\" -> \")\n",
        "            node = node.next\n",
        "\n",
        "            # Break to prevent infinite loop\n",
        "            if node == head:\n",
        "                break"
      ]
    },
    {
      "cell_type": "markdown",
      "metadata": {
        "id": "O68-Q1-bzZOl"
      },
      "source": [
        "#### 1. Create a Singly Linked list\n",
        "\n",
        "- Each node should contain your name and your seatmates in your row\n",
        "- Create at least 5 nodes\n",
        "- Traverse all nodes"
      ]
    },
    {
      "cell_type": "code",
      "execution_count": 9,
      "metadata": {
        "id": "pTcx_OuPzZOl",
        "outputId": "4697838c-aa19-4e7c-d179-add1a7010a67",
        "colab": {
          "base_uri": "https://localhost:8080/"
        }
      },
      "outputs": [
        {
          "output_type": "stream",
          "name": "stdout",
          "text": [
            "Jessa -> Jayvee -> Ivan -> Khyle -> Andrei -> "
          ]
        }
      ],
      "source": [
        "class Node:\n",
        "    def __init__(self, name):\n",
        "        self.name = name\n",
        "        self.next = None\n",
        "\n",
        "class SinglyLinkedList:\n",
        "    def __init__(self):\n",
        "        self.head = None\n",
        "\n",
        "    def traverse(self):\n",
        "        current_node = self.head\n",
        "        while current_node:\n",
        "            print(current_node.name, end=\" -> \")\n",
        "            current_node = current_node.next\n",
        "\n",
        "linked_list = SinglyLinkedList()\n",
        "linked_list.head = Node(\"Jessa\")\n",
        "jessa_node = Node(\"Jayvee\")\n",
        "jayvee_node = Node(\"Ivan\")\n",
        "ivan_node = Node(\"Khyle\")\n",
        "khyle_node = Node(\"Andrei\")\n",
        "\n",
        "linked_list.head.next = jessa_node\n",
        "jessa_node.next = jayvee_node\n",
        "jayvee_node.next = ivan_node\n",
        "ivan_node.next = khyle_node\n",
        "\n",
        "linked_list.traverse()\n"
      ]
    },
    {
      "cell_type": "markdown",
      "metadata": {
        "id": "IFgwbdw_zZOm"
      },
      "source": [
        "#### 2. Create a Doubly Linked list\n",
        "\n",
        "- Each node should contain your name and your seatmates in your row\n",
        "- Create at least 5 nodes\n",
        "- Traverse all nodes"
      ]
    },
    {
      "cell_type": "code",
      "execution_count": 11,
      "metadata": {
        "id": "8kQD2A_QzZOm",
        "outputId": "912474cc-7302-41c5-aa3a-f205248f1a87",
        "colab": {
          "base_uri": "https://localhost:8080/"
        }
      },
      "outputs": [
        {
          "output_type": "stream",
          "name": "stdout",
          "text": [
            "Jessa -> Jayvee -> Ivan -> Khyle -> Andrei -> "
          ]
        }
      ],
      "source": [
        "# put your code here\n",
        "class Node:\n",
        "    def __init__(self, name):\n",
        "        self.name = name\n",
        "        self.next = None\n",
        "        self.prev = None\n",
        "\n",
        "class DoublyLinkedList:\n",
        "    def __init__(self):\n",
        "        self.head = None\n",
        "\n",
        "    def traverse(self):\n",
        "        current_node = self.head\n",
        "        while current_node:\n",
        "            print(current_node.name, end=\" -> \")\n",
        "            current_node = current_node.next\n",
        "\n",
        "linked_list = DoublyLinkedList()\n",
        "linked_list.head = Node(\"Jessa\")\n",
        "jessa_node = Node(\"Jayvee\")\n",
        "jayvee_node = Node(\"Ivan\")\n",
        "ivan_node = Node(\"Khyle\")\n",
        "khyle_node = Node(\"Andrei\")\n",
        "\n",
        "linked_list.head.next = jessa_node\n",
        "jessa_node.prev = linked_list.head\n",
        "\n",
        "jessa_node.next = jayvee_node\n",
        "jayvee_node.prev = jessa_node\n",
        "\n",
        "jayvee_node.next = ivan_node\n",
        "ivan_node.prev = jayvee_node\n",
        "\n",
        "ivan_node.next = khyle_node\n",
        "khyle_node.prev = ivan_node\n",
        "\n",
        "linked_list.traverse()\n"
      ]
    },
    {
      "cell_type": "markdown",
      "metadata": {
        "id": "rtApbsCjzZOm"
      },
      "source": [
        "#### 3. Create a Circular Linked list\n",
        "\n",
        "- Each node should contain your name and your seatmates in your row\n",
        "- Create at least 5 nodes\n",
        "- Traverse all nodes"
      ]
    },
    {
      "cell_type": "code",
      "execution_count": 19,
      "metadata": {
        "id": "Gp1Oiq0jzZOn",
        "outputId": "7e1f8416-c89d-409f-e50e-06e6e8937ee6",
        "colab": {
          "base_uri": "https://localhost:8080/"
        }
      },
      "outputs": [
        {
          "output_type": "stream",
          "name": "stdout",
          "text": [
            "Jessa -> Jayvee -> Ivan -> Khyle -> Andrei -> "
          ]
        }
      ],
      "source": [
        "# put your code here\n",
        "class Node:\n",
        "    def __init__(self, name):\n",
        "        self.name = name\n",
        "        self.next = None\n",
        "\n",
        "class CircularLinkedList:\n",
        "    def __init__(self):\n",
        "        self.head = None\n",
        "\n",
        "    def traverse(self, start):\n",
        "        current_node = start\n",
        "        while True:\n",
        "            print(current_node.name, end=\" -> \")\n",
        "            current_node = current_node.next\n",
        "            if current_node == start:\n",
        "                break\n",
        "\n",
        "cll = CircularLinkedList()\n",
        "\n",
        "cll.head = Node(\"Jessa\")\n",
        "jessa_node = Node(\"Jayvee\")\n",
        "jayvee_node = Node(\"Ivan\")\n",
        "ivan_node = Node(\"Khyle\")\n",
        "khyle_node = Node(\"Andrei\")\n",
        "\n",
        "cll.head.next = jessa_node\n",
        "jessa_node.next = jayvee_node\n",
        "jayvee_node.next = ivan_node\n",
        "ivan_node.next = khyle_node\n",
        "khyle_node.next = cll.head\n",
        "\n",
        "andrei_node = Node(\"Andrei\")\n",
        "andrei_node.next = cll.head\n",
        "\n",
        "cll.traverse(cll.head)\n",
        "\n"
      ]
    }
  ],
  "metadata": {
    "kernelspec": {
      "display_name": "Python 3",
      "language": "python",
      "name": "python3"
    },
    "language_info": {
      "name": "python",
      "version": "3.11.4"
    },
    "orig_nbformat": 4,
    "colab": {
      "provenance": []
    }
  },
  "nbformat": 4,
  "nbformat_minor": 0
}